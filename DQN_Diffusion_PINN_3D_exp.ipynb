{
 "cells": [
  {
   "cell_type": "markdown",
   "metadata": {
    "colab": {
     "base_uri": "https://localhost:8080/"
    },
    "executionInfo": {
     "elapsed": 112905,
     "status": "ok",
     "timestamp": 1627598013459,
     "user": {
      "displayName": "Jacob Turner",
      "photoUrl": "https://lh3.googleusercontent.com/a-/AOh14Gg26nGjOG_lNbqDar8XSODQ1VfvkVr6dOJef2WsQw=s64",
      "userId": "03238413818447311891"
     },
     "user_tz": -60
    },
    "id": "JZIc7rgIVvTT",
    "outputId": "b78f9e98-68e4-435d-d256-2c6e2fe74059"
   },
   "source": [
    "from google.colab import drive \n",
    "drive.mount('/content/drive')\n",
    "%cd /content/drive/My\\ Drive/BATH//Dissertaion/Colab\n",
    "!pip install wandb\n",
    "!pip install pyDOE\n",
    "!pip install stable_baselines3\n",
    "\n",
    "try:\n",
    "    import dolfin\n",
    "except ImportError:\n",
    "    !wget \"https://fem-on-colab.github.io/releases/fenics-install.sh\" -O \"/tmp/fenics-install.sh\" && bash \"/tmp/fenics-install.sh\"\n",
    "    import dolfin\n",
    "\n",
    "#!pip install cloud-tpu-client==0.10 https://storage.googleapis.com/tpu-pytorch/wheels/torch_xla-1.9-cp37-cp37m-linux_x86_64.whl"
   ]
  },
  {
   "cell_type": "code",
   "execution_count": 2,
   "metadata": {
    "executionInfo": {
     "elapsed": 1182,
     "status": "ok",
     "timestamp": 1627598017616,
     "user": {
      "displayName": "Jacob Turner",
      "photoUrl": "https://lh3.googleusercontent.com/a-/AOh14Gg26nGjOG_lNbqDar8XSODQ1VfvkVr6dOJef2WsQw=s64",
      "userId": "03238413818447311891"
     },
     "user_tz": -60
    },
    "id": "Z-Ga7l8LVrwD"
   },
   "outputs": [
    {
     "name": "stderr",
     "output_type": "stream",
     "text": [
      "/usr/lib/python3/dist-packages/requests/__init__.py:89: RequestsDependencyWarning: urllib3 (1.26.6) or chardet (3.0.4) doesn't match a supported version!\n",
      "  warnings.warn(\"urllib3 ({}) or chardet ({}) doesn't match a supported \"\n"
     ]
    }
   ],
   "source": [
    "import cv2\n",
    "\n",
    "#import libraries\n",
    "import gym\n",
    "\n",
    "import time\n",
    "import wandb\n",
    "import numpy as np\n",
    "\n",
    "import torch \n",
    "from matplotlib import pyplot as plt\n",
    "from IPython.display import clear_output\n",
    "from tqdm import tqdm \n",
    "from dataclasses import dataclass\n",
    "from typing import Any\n",
    "from models import Model as Stock_NN\n",
    "from models import ConvModel2 as ConvModel\n",
    "\n",
    "import matplotlib.pyplot as plt\n",
    "is_ipython = 'inline' in plt.get_backend()\n",
    "if is_ipython: from IPython import display\n",
    "if is_ipython: display.clear_output(wait=True)"
   ]
  },
  {
   "cell_type": "code",
   "execution_count": 3,
   "metadata": {
    "colab": {
     "base_uri": "https://localhost:8080/"
    },
    "executionInfo": {
     "elapsed": 5,
     "status": "ok",
     "timestamp": 1627598017616,
     "user": {
      "displayName": "Jacob Turner",
      "photoUrl": "https://lh3.googleusercontent.com/a-/AOh14Gg26nGjOG_lNbqDar8XSODQ1VfvkVr6dOJef2WsQw=s64",
      "userId": "03238413818447311891"
     },
     "user_tz": -60
    },
    "id": "JXX_PkmHVrwG",
    "outputId": "33448899-4812-4970-c8ae-421115302b11"
   },
   "outputs": [
    {
     "data": {
      "text/plain": [
       "device(type='cuda')"
      ]
     },
     "execution_count": 3,
     "metadata": {},
     "output_type": "execute_result"
    }
   ],
   "source": [
    "device = torch.device('cuda' if torch.cuda.is_available() else 'cpu')\n",
    "device"
   ]
  },
  {
   "cell_type": "code",
   "execution_count": 4,
   "metadata": {
    "executionInfo": {
     "elapsed": 4,
     "status": "ok",
     "timestamp": 1627598017617,
     "user": {
      "displayName": "Jacob Turner",
      "photoUrl": "https://lh3.googleusercontent.com/a-/AOh14Gg26nGjOG_lNbqDar8XSODQ1VfvkVr6dOJef2WsQw=s64",
      "userId": "03238413818447311891"
     },
     "user_tz": -60
    },
    "id": "ti3W4NfsVrwI"
   },
   "outputs": [],
   "source": [
    "import matplotlib.pyplot as plt\n",
    "import matplotlib.gridspec as gridspec\n",
    "from mpl_toolkits.axes_grid1 import make_axes_locatable\n",
    "from mpl_toolkits.mplot3d import Axes3D\n",
    "import matplotlib.ticker\n",
    "plt.rcParams['figure.figsize'] = [15, 10]\n",
    "\n",
    "import numpy as np\n",
    "import time\n",
    "from pyDOE import lhs         #Hypercube Sampling\n",
    "import scipy.io\n",
    "\n",
    "#Set default dtype to float32\n",
    "torch.set_default_dtype(torch.float)\n"
   ]
  },
  {
   "cell_type": "code",
   "execution_count": 4,
   "metadata": {},
   "outputs": [],
   "source": [
    "sensor_coords = np.array([[0.1, -0.9],[0.9,0.9],[0.5,0.45]])\n"
   ]
  },
  {
   "cell_type": "code",
   "execution_count": 5,
   "metadata": {
    "colab": {
     "base_uri": "https://localhost:8080/"
    },
    "executionInfo": {
     "elapsed": 11802,
     "status": "ok",
     "timestamp": 1627598038192,
     "user": {
      "displayName": "Jacob Turner",
      "photoUrl": "https://lh3.googleusercontent.com/a-/AOh14Gg26nGjOG_lNbqDar8XSODQ1VfvkVr6dOJef2WsQw=s64",
      "userId": "03238413818447311891"
     },
     "user_tz": -60
    },
    "id": "sRDhehipVrwR",
    "outputId": "f9556d1c-06f5-4443-f637-36233888b6bc"
   },
   "outputs": [],
   "source": [
    "from environment import heat_diffusion\n",
    "\n",
    "env = heat_diffusion(dt = 1e-1, sensor_coords = sensor_coords)"
   ]
  },
  {
   "cell_type": "code",
   "execution_count": 6,
   "metadata": {},
   "outputs": [],
   "source": [
    "from Agents import DQN_Agent"
   ]
  },
  {
   "cell_type": "code",
   "execution_count": null,
   "metadata": {
    "executionInfo": {
     "elapsed": 256,
     "status": "ok",
     "timestamp": 1627598119903,
     "user": {
      "displayName": "Jacob Turner",
      "photoUrl": "https://lh3.googleusercontent.com/a-/AOh14Gg26nGjOG_lNbqDar8XSODQ1VfvkVr6dOJef2WsQw=s64",
      "userId": "03238413818447311891"
     },
     "user_tz": -60
    },
    "id": "9jdtwvH2VrwS"
   },
   "outputs": [
    {
     "name": "stdout",
     "output_type": "stream",
     "text": [
      "224596\n"
     ]
    },
    {
     "name": "stderr",
     "output_type": "stream",
     "text": [
      "wandb: Currently logged in as: jacob-turner (use `wandb login --relogin` to force relogin)\n",
      "wandb: wandb version 0.11.1 is available!  To upgrade, please run:\n",
      "wandb:  $ pip install wandb --upgrade\n"
     ]
    },
    {
     "data": {
      "text/html": [
       "\n",
       "                Tracking run with wandb version 0.10.33<br/>\n",
       "                Syncing run <strong style=\"color:#cdcd00\">Diffusion_PINN_run_13_eps_0.2_rb_10000_samples_500_tgt_1000_id_224596_.pth</strong> to <a href=\"https://wandb.ai\" target=\"_blank\">Weights & Biases</a> <a href=\"https://docs.wandb.com/integrations/jupyter.html\" target=\"_blank\">(Documentation)</a>.<br/>\n",
       "                Project page: <a href=\"https://wandb.ai/jacob-turner/Dissertation_Final\" target=\"_blank\">https://wandb.ai/jacob-turner/Dissertation_Final</a><br/>\n",
       "                Run page: <a href=\"https://wandb.ai/jacob-turner/Dissertation_Final/runs/1tcb8lfl\" target=\"_blank\">https://wandb.ai/jacob-turner/Dissertation_Final/runs/1tcb8lfl</a><br/>\n",
       "                Run data is saved locally in <code>/home/jacob/Navier_stokes/wandb/run-20210802_153358-1tcb8lfl</code><br/><br/>\n",
       "            "
      ],
      "text/plain": [
       "<IPython.core.display.HTML object>"
      ]
     },
     "metadata": {},
     "output_type": "display_data"
    },
    {
     "name": "stderr",
     "output_type": "stream",
     "text": [
      "20981it [2:00:10, 22.22s/it] "
     ]
    }
   ],
   "source": [
    "Agent = DQN_Agent(env,\n",
    "                 learning_rate = 1e-4, \n",
    "                 discount_rate = 0.99,\n",
    "                 eps_max = 0.2, \n",
    "                 eps_min = 0.05,\n",
    "                 eps_decay = 1e-8, \n",
    "                 boltzman_exploration = False,\n",
    "                 min_rb_size = 10000, #200, \n",
    "                 sample_size = 500, #300\n",
    "                 model_train_freq = 5,\n",
    "                 tgt_update_freq = 1000,\n",
    "                 max_epoch = 400, #100, \n",
    "                 load_PINN = None,\n",
    "                 load_model = None,\n",
    "                 device = 'cuda:0',\n",
    "                 name = None,\n",
    "                 description = 'Diffusion_PINN_run_'+str(13))\n",
    "  \n",
    "r = str(np.random.random())[2:8] # random marker\n",
    "print(r)\n",
    "Agent.train(identifier = r, episode_num = 0)\n"
   ]
  },
  {
   "cell_type": "code",
   "execution_count": null,
   "metadata": {},
   "outputs": [],
   "source": []
  },
  {
   "cell_type": "code",
   "execution_count": null,
   "metadata": {},
   "outputs": [],
   "source": []
  },
  {
   "cell_type": "code",
   "execution_count": null,
   "metadata": {},
   "outputs": [],
   "source": [
    "Agent.train(max_epoch = np.inf, identifier = 434432, episode_num = 0)"
   ]
  },
  {
   "cell_type": "code",
   "execution_count": null,
   "metadata": {},
   "outputs": [],
   "source": []
  },
  {
   "cell_type": "code",
   "execution_count": null,
   "metadata": {},
   "outputs": [],
   "source": []
  },
  {
   "cell_type": "code",
   "execution_count": 11,
   "metadata": {},
   "outputs": [
    {
     "data": {
      "text/plain": [
       "-95.7831973481748"
      ]
     },
     "execution_count": 11,
     "metadata": {},
     "output_type": "execute_result"
    }
   ],
   "source": [
    "Agent.run_episode(render=True, explore = False, \n",
    "                 load_PINN = 'models/PINN_3D_Diffusion_300_episodes_2223432.pth',\n",
    "                 load_model = 'models/CNN_3D_Diffusion_300_episodes_2223432.pth'\n",
    "                 )"
   ]
  },
  {
   "cell_type": "code",
   "execution_count": 7,
   "metadata": {},
   "outputs": [
    {
     "data": {
      "image/png": "[encoded data removed]",
      "text/plain": [
       "<Figure size 1080x720 with 1 Axes>"
      ]
     },
     "metadata": {
      "needs_background": "light"
     },
     "output_type": "display_data"
    }
   ],
   "source": [
    "def f(x):\n",
    "    return 40/(1+np.exp(-5*x)) - 20\n",
    "\n",
    "x = np.linspace(-1,1,1000)\n",
    "plt.plot(x,f(x))\n",
    "plt.ylabel('Normalized Reward $R(s)$', size = 25)\n",
    "plt.xlabel('Absolute Reward $R(s)$', size = 25)\n",
    "plt.grid()\n",
    "plt.tick_params(axis='both', which='major', labelsize=20)\n"
   ]
  },
  {
   "cell_type": "code",
   "execution_count": null,
   "metadata": {},
   "outputs": [],
   "source": []
  },
  {
   "cell_type": "code",
   "execution_count": null,
   "metadata": {},
   "outputs": [],
   "source": []
  },
  {
   "cell_type": "code",
   "execution_count": null,
   "metadata": {},
   "outputs": [],
   "source": []
  },
  {
   "cell_type": "code",
   "execution_count": null,
   "metadata": {},
   "outputs": [],
   "source": []
  },
  {
   "cell_type": "code",
   "execution_count": null,
   "metadata": {
    "id": "mnl8MHOQVrwT",
    "outputId": "fdcd4e54-f556-4e03-89c0-ffd1a5e498f6",
    "scrolled": true
   },
   "outputs": [
    {
     "ename": "KeyboardInterrupt",
     "evalue": "",
     "output_type": "error",
     "traceback": [
      "\u001b[0;31m---------------------------------------------------------------------------\u001b[0m",
      "\u001b[0;31mKeyboardInterrupt\u001b[0m                         Traceback (most recent call last)",
      "\u001b[0;32m<ipython-input-19-9a926a30a7e9>\u001b[0m in \u001b[0;36m<module>\u001b[0;34m\u001b[0m\n\u001b[1;32m     11\u001b[0m     \u001b[0;32mfor\u001b[0m \u001b[0m_\u001b[0m \u001b[0;32min\u001b[0m \u001b[0mrange\u001b[0m\u001b[0;34m(\u001b[0m\u001b[0;36m5\u001b[0m\u001b[0;34m)\u001b[0m\u001b[0;34m:\u001b[0m\u001b[0;34m\u001b[0m\u001b[0;34m\u001b[0m\u001b[0m\n\u001b[1;32m     12\u001b[0m         \u001b[0menv\u001b[0m\u001b[0;34m.\u001b[0m\u001b[0mreset\u001b[0m\u001b[0;34m(\u001b[0m\u001b[0;34m)\u001b[0m\u001b[0;34m\u001b[0m\u001b[0;34m\u001b[0m\u001b[0m\n\u001b[0;32m---> 13\u001b[0;31m         scores.append(Agent.test_episode(plot=False, env = env,\n\u001b[0m\u001b[1;32m     14\u001b[0m                                     \u001b[0mload_PINN\u001b[0m \u001b[0;34m=\u001b[0m \u001b[0mAgent\u001b[0m\u001b[0;34m.\u001b[0m\u001b[0mpinn_model\u001b[0m\u001b[0;34m,\u001b[0m\u001b[0;34m\u001b[0m\u001b[0;34m\u001b[0m\u001b[0m\n\u001b[1;32m     15\u001b[0m                                     load_model = Agent.cnn_model))\n",
      "\u001b[0;32m<ipython-input-14-8ea88b224062>\u001b[0m in \u001b[0;36mtest_episode\u001b[0;34m(self, env, plot, load_model, load_PINN)\u001b[0m\n\u001b[1;32m    363\u001b[0m             \u001b[0mprev_action\u001b[0m \u001b[0;34m=\u001b[0m \u001b[0maction\u001b[0m\u001b[0;34m\u001b[0m\u001b[0;34m\u001b[0m\u001b[0m\n\u001b[1;32m    364\u001b[0m \u001b[0;34m\u001b[0m\u001b[0m\n\u001b[0;32m--> 365\u001b[0;31m             pinn.train(bc_x[:,:,0], bc_u, f_x[:,:,0], ic_x, ic_u,\n\u001b[0m\u001b[1;32m    366\u001b[0m                   \u001b[0mepochs\u001b[0m \u001b[0;34m=\u001b[0m \u001b[0;36m1\u001b[0m\u001b[0;34m,\u001b[0m\u001b[0;34m\u001b[0m\u001b[0;34m\u001b[0m\u001b[0m\n\u001b[1;32m    367\u001b[0m                   \u001b[0mLBFGS\u001b[0m \u001b[0;34m=\u001b[0m \u001b[0;32mFalse\u001b[0m\u001b[0;34m,\u001b[0m\u001b[0;34m\u001b[0m\u001b[0;34m\u001b[0m\u001b[0m\n",
      "\u001b[0;32m~/Navier_stokes/PINN_3D.py\u001b[0m in \u001b[0;36mtrain\u001b[0;34m(self, x_bc, u_bc, x, ic_x, ic_u, learning_rate, epochs, LBFGS, K, max_iter, source, sensor_values)\u001b[0m\n\u001b[1;32m    178\u001b[0m \u001b[0;34m\u001b[0m\u001b[0m\n\u001b[1;32m    179\u001b[0m             \u001b[0;31m# perform train step\u001b[0m\u001b[0;34m\u001b[0m\u001b[0;34m\u001b[0m\u001b[0;34m\u001b[0m\u001b[0m\n\u001b[0;32m--> 180\u001b[0;31m             \u001b[0mloss\u001b[0m \u001b[0;34m=\u001b[0m \u001b[0mself\u001b[0m\u001b[0;34m.\u001b[0m\u001b[0mtrain_step\u001b[0m\u001b[0;34m(\u001b[0m\u001b[0mclosure\u001b[0m \u001b[0;34m=\u001b[0m \u001b[0;32mFalse\u001b[0m\u001b[0;34m)\u001b[0m\u001b[0;34m\u001b[0m\u001b[0;34m\u001b[0m\u001b[0m\n\u001b[0m\u001b[1;32m    181\u001b[0m             \u001b[0mloss_t\u001b[0m\u001b[0;34m.\u001b[0m\u001b[0mappend\u001b[0m\u001b[0;34m(\u001b[0m\u001b[0mloss\u001b[0m\u001b[0;34m)\u001b[0m\u001b[0;34m\u001b[0m\u001b[0;34m\u001b[0m\u001b[0m\n\u001b[1;32m    182\u001b[0m \u001b[0;34m\u001b[0m\u001b[0m\n",
      "\u001b[0;32m~/Navier_stokes/PINN_3D.py\u001b[0m in \u001b[0;36mtrain_step\u001b[0;34m(self, closure)\u001b[0m\n\u001b[1;32m     81\u001b[0m \u001b[0;34m\u001b[0m\u001b[0m\n\u001b[1;32m     82\u001b[0m         \u001b[0;31m# predict solution to boundary condition\u001b[0m\u001b[0;34m\u001b[0m\u001b[0;34m\u001b[0m\u001b[0;34m\u001b[0m\u001b[0m\n\u001b[0;32m---> 83\u001b[0;31m         \u001b[0mbc_pred\u001b[0m \u001b[0;34m=\u001b[0m \u001b[0mself\u001b[0m\u001b[0;34m.\u001b[0m\u001b[0mforward\u001b[0m\u001b[0;34m(\u001b[0m\u001b[0mself\u001b[0m\u001b[0;34m.\u001b[0m\u001b[0mx_bc\u001b[0m\u001b[0;34m)\u001b[0m \u001b[0;31m#[x,t]\u001b[0m\u001b[0;34m\u001b[0m\u001b[0;34m\u001b[0m\u001b[0m\n\u001b[0m\u001b[1;32m     84\u001b[0m         \u001b[0mself\u001b[0m\u001b[0;34m.\u001b[0m\u001b[0mmse_u\u001b[0m \u001b[0;34m=\u001b[0m \u001b[0mself\u001b[0m\u001b[0;34m.\u001b[0m\u001b[0mMSE\u001b[0m\u001b[0;34m(\u001b[0m\u001b[0mbc_pred\u001b[0m\u001b[0;34m,\u001b[0m \u001b[0mself\u001b[0m\u001b[0;34m.\u001b[0m\u001b[0mu_bc\u001b[0m\u001b[0;34m)\u001b[0m\u001b[0;34m\u001b[0m\u001b[0;34m\u001b[0m\u001b[0m\n\u001b[1;32m     85\u001b[0m \u001b[0;34m\u001b[0m\u001b[0m\n",
      "\u001b[0;32m~/Navier_stokes/PINN_3D.py\u001b[0m in \u001b[0;36mforward\u001b[0;34m(self, x_in)\u001b[0m\n\u001b[1;32m     54\u001b[0m         \u001b[0;31m# input layer\u001b[0m\u001b[0;34m\u001b[0m\u001b[0;34m\u001b[0m\u001b[0;34m\u001b[0m\u001b[0m\n\u001b[1;32m     55\u001b[0m         \u001b[0mx\u001b[0m \u001b[0;34m=\u001b[0m \u001b[0mself\u001b[0m\u001b[0;34m.\u001b[0m\u001b[0minput_layer\u001b[0m\u001b[0;34m(\u001b[0m\u001b[0mx_in\u001b[0m\u001b[0;34m)\u001b[0m\u001b[0;34m\u001b[0m\u001b[0;34m\u001b[0m\u001b[0m\n\u001b[0;32m---> 56\u001b[0;31m         \u001b[0mx\u001b[0m \u001b[0;34m=\u001b[0m \u001b[0mself\u001b[0m\u001b[0;34m.\u001b[0m\u001b[0minput_activation\u001b[0m\u001b[0;34m(\u001b[0m\u001b[0mx\u001b[0m\u001b[0;34m)\u001b[0m\u001b[0;34m\u001b[0m\u001b[0;34m\u001b[0m\u001b[0m\n\u001b[0m\u001b[1;32m     57\u001b[0m \u001b[0;34m\u001b[0m\u001b[0m\n\u001b[1;32m     58\u001b[0m         \u001b[0;31m# loop through hidden layers\u001b[0m\u001b[0;34m\u001b[0m\u001b[0;34m\u001b[0m\u001b[0;34m\u001b[0m\u001b[0m\n",
      "\u001b[0;32m~/.local/lib/python3.8/site-packages/torch/nn/modules/module.py\u001b[0m in \u001b[0;36m_call_impl\u001b[0;34m(self, *input, **kwargs)\u001b[0m\n\u001b[1;32m    887\u001b[0m             \u001b[0mresult\u001b[0m \u001b[0;34m=\u001b[0m \u001b[0mself\u001b[0m\u001b[0;34m.\u001b[0m\u001b[0m_slow_forward\u001b[0m\u001b[0;34m(\u001b[0m\u001b[0;34m*\u001b[0m\u001b[0minput\u001b[0m\u001b[0;34m,\u001b[0m \u001b[0;34m**\u001b[0m\u001b[0mkwargs\u001b[0m\u001b[0;34m)\u001b[0m\u001b[0;34m\u001b[0m\u001b[0;34m\u001b[0m\u001b[0m\n\u001b[1;32m    888\u001b[0m         \u001b[0;32melse\u001b[0m\u001b[0;34m:\u001b[0m\u001b[0;34m\u001b[0m\u001b[0;34m\u001b[0m\u001b[0m\n\u001b[0;32m--> 889\u001b[0;31m             \u001b[0mresult\u001b[0m \u001b[0;34m=\u001b[0m \u001b[0mself\u001b[0m\u001b[0;34m.\u001b[0m\u001b[0mforward\u001b[0m\u001b[0;34m(\u001b[0m\u001b[0;34m*\u001b[0m\u001b[0minput\u001b[0m\u001b[0;34m,\u001b[0m \u001b[0;34m**\u001b[0m\u001b[0mkwargs\u001b[0m\u001b[0;34m)\u001b[0m\u001b[0;34m\u001b[0m\u001b[0;34m\u001b[0m\u001b[0m\n\u001b[0m\u001b[1;32m    890\u001b[0m         for hook in itertools.chain(\n\u001b[1;32m    891\u001b[0m                 \u001b[0m_global_forward_hooks\u001b[0m\u001b[0;34m.\u001b[0m\u001b[0mvalues\u001b[0m\u001b[0;34m(\u001b[0m\u001b[0;34m)\u001b[0m\u001b[0;34m,\u001b[0m\u001b[0;34m\u001b[0m\u001b[0;34m\u001b[0m\u001b[0m\n",
      "\u001b[0;32m~/.local/lib/python3.8/site-packages/torch/nn/modules/activation.py\u001b[0m in \u001b[0;36mforward\u001b[0;34m(self, input)\u001b[0m\n\u001b[1;32m    357\u001b[0m \u001b[0;34m\u001b[0m\u001b[0m\n\u001b[1;32m    358\u001b[0m     \u001b[0;32mdef\u001b[0m \u001b[0mforward\u001b[0m\u001b[0;34m(\u001b[0m\u001b[0mself\u001b[0m\u001b[0;34m,\u001b[0m \u001b[0minput\u001b[0m\u001b[0;34m:\u001b[0m \u001b[0mTensor\u001b[0m\u001b[0;34m)\u001b[0m \u001b[0;34m->\u001b[0m \u001b[0mTensor\u001b[0m\u001b[0;34m:\u001b[0m\u001b[0;34m\u001b[0m\u001b[0;34m\u001b[0m\u001b[0m\n\u001b[0;32m--> 359\u001b[0;31m         \u001b[0;32mreturn\u001b[0m \u001b[0mtorch\u001b[0m\u001b[0;34m.\u001b[0m\u001b[0mtanh\u001b[0m\u001b[0;34m(\u001b[0m\u001b[0minput\u001b[0m\u001b[0;34m)\u001b[0m\u001b[0;34m\u001b[0m\u001b[0;34m\u001b[0m\u001b[0m\n\u001b[0m\u001b[1;32m    360\u001b[0m \u001b[0;34m\u001b[0m\u001b[0m\n\u001b[1;32m    361\u001b[0m \u001b[0;32mclass\u001b[0m \u001b[0mSiLU\u001b[0m\u001b[0;34m(\u001b[0m\u001b[0mModule\u001b[0m\u001b[0;34m)\u001b[0m\u001b[0;34m:\u001b[0m\u001b[0;34m\u001b[0m\u001b[0;34m\u001b[0m\u001b[0m\n",
      "\u001b[0;31mKeyboardInterrupt\u001b[0m: "
     ]
    }
   ],
   "source": [
    "avg_scores = []\n",
    "i = 54\n",
    "while True:\n",
    "    scores = []\n",
    "    Agent.train(identifier = i)\n",
    "    i += 1\n",
    "    print('Testing')\n",
    "    print(Agent.pinn_model)\n",
    "    \n",
    "    \n",
    "    for _ in range(5):\n",
    "        env.reset()\n",
    "        scores.append(Agent.test_episode(plot=False, env = env,\n",
    "                                    load_PINN = Agent.pinn_model,\n",
    "                                    load_model = Agent.cnn_model))\n",
    "        print('scores: ',scores)\n",
    "    print(Agent.pinn_model) \n",
    "    Agent = DQN_Agent(env,\n",
    "                 learning_rate = 1e-4, \n",
    "                 discount_rate = 0.99,\n",
    "                 eps_max = 0.5, \n",
    "                 eps_min = 0.01,\n",
    "                 eps_decay = 1e-5, \n",
    "                 boltzman_exploration = False,\n",
    "                 min_rb_size = 1000, #100, \n",
    "                 sample_size = 100, #10\n",
    "                 model_train_freq = 50,\n",
    "                 tgt_update_freq = 400,\n",
    "                 max_epoch = 50, #100, \n",
    "                 load_PINN = Agent.pinn_model,#'models/PINN_3D_Diffusion_10050_325791_67.pth',\n",
    "                 load_model = Agent.cnn_model,#'models/CNN_3D_Diffusion_10050_325791_67.pth',\n",
    "                 device = 'cuda:0',\n",
    "                 name = 'Heat_diffusion_PINN_3D')\n",
    "    \n",
    "    \n",
    "    avg_scores.append(np.mean(scores))\n",
    "    print(i, ' scores: ', avg_scores)"
   ]
  },
  {
   "cell_type": "code",
   "execution_count": null,
   "metadata": {
    "id": "eRv-JQq5VrwT"
   },
   "outputs": [],
   "source": []
  },
  {
   "cell_type": "code",
   "execution_count": null,
   "metadata": {
    "id": "5SUs0VSEVrwT"
   },
   "outputs": [],
   "source": []
  },
  {
   "cell_type": "code",
   "execution_count": 28,
   "metadata": {
    "id": "6mnlOO5vVrwU",
    "outputId": "2ca2527f-a5bb-4ad2-f069-955e2e2ce878"
   },
   "outputs": [
    {
     "data": {
      "text/plain": [
       "array([[0.],\n",
       "       [0.],\n",
       "       [0.]])"
      ]
     },
     "execution_count": 28,
     "metadata": {},
     "output_type": "execute_result"
    }
   ],
   "source": [
    "env.reset()"
   ]
  },
  {
   "cell_type": "code",
   "execution_count": 10,
   "metadata": {
    "colab": {
     "background_save": true,
     "base_uri": "https://localhost:8080/",
     "height": 606
    },
    "id": "GH_b7WvGVrwV",
    "outputId": "c119339e-5c0f-43d4-b1ae-577946018ddd"
   },
   "outputs": [
    {
     "ename": "AttributeError",
     "evalue": "'DQN_Agent' object has no attribute 'test_episode'",
     "output_type": "error",
     "traceback": [
      "\u001b[0;31m---------------------------------------------------------------------------\u001b[0m",
      "\u001b[0;31mAttributeError\u001b[0m                            Traceback (most recent call last)",
      "\u001b[0;32m<ipython-input-10-e69b8dcad258>\u001b[0m in \u001b[0;36m<module>\u001b[0;34m\u001b[0m\n\u001b[0;32m----> 1\u001b[0;31m Agent.test_episode(plot=False, env = env,\n\u001b[0m\u001b[1;32m      2\u001b[0m                  \u001b[0mload_PINN\u001b[0m \u001b[0;34m=\u001b[0m \u001b[0;34m'models/PINN_3D_Diffusion_300_episodes_2223432.pth'\u001b[0m\u001b[0;34m,\u001b[0m\u001b[0;34m\u001b[0m\u001b[0;34m\u001b[0m\u001b[0m\n\u001b[1;32m      3\u001b[0m                  load_model = 'models/CNN_3D_Diffusion_300_episodes_2223432.pth')\n",
      "\u001b[0;31mAttributeError\u001b[0m: 'DQN_Agent' object has no attribute 'test_episode'"
     ]
    }
   ],
   "source": [
    "Agent.test_episode(plot=False, env = env,\n",
    "                 load_PINN = 'models/PINN_3D_Diffusion_300_episodes_2223432.pth',\n",
    "                 load_model = 'models/CNN_3D_Diffusion_300_episodes_2223432.pth')"
   ]
  },
  {
   "cell_type": "code",
   "execution_count": null,
   "metadata": {},
   "outputs": [],
   "source": []
  },
  {
   "cell_type": "code",
   "execution_count": null,
   "metadata": {},
   "outputs": [],
   "source": []
  },
  {
   "cell_type": "code",
   "execution_count": null,
   "metadata": {
    "id": "0V9lVWb4VrwW",
    "outputId": "c45cef75-5b86-4c12-f885-2eca8cee9cd0"
   },
   "outputs": [
    {
     "ename": "NameError",
     "evalue": "name 'plt' is not defined",
     "output_type": "error",
     "traceback": [
      "\u001b[0;31m---------------------------------------------------------------------------\u001b[0m",
      "\u001b[0;31mNameError\u001b[0m                                 Traceback (most recent call last)",
      "\u001b[0;32m<ipython-input-1-5fa105daec62>\u001b[0m in \u001b[0;36m<module>\u001b[0;34m\u001b[0m\n\u001b[1;32m      1\u001b[0m \u001b[0;32mfrom\u001b[0m \u001b[0mtime\u001b[0m \u001b[0;32mimport\u001b[0m \u001b[0msleep\u001b[0m\u001b[0;34m\u001b[0m\u001b[0;34m\u001b[0m\u001b[0m\n\u001b[1;32m      2\u001b[0m \u001b[0;32mfor\u001b[0m \u001b[0mi\u001b[0m \u001b[0;32min\u001b[0m \u001b[0mrange\u001b[0m\u001b[0;34m(\u001b[0m\u001b[0;36m4\u001b[0m\u001b[0;34m)\u001b[0m\u001b[0;34m:\u001b[0m\u001b[0;34m\u001b[0m\u001b[0;34m\u001b[0m\u001b[0m\n\u001b[0;32m----> 3\u001b[0;31m     \u001b[0mplt\u001b[0m\u001b[0;34m.\u001b[0m\u001b[0mimshow\u001b[0m\u001b[0;34m(\u001b[0m\u001b[0mAgent\u001b[0m\u001b[0;34m.\u001b[0m\u001b[0mlog\u001b[0m\u001b[0;34m[\u001b[0m\u001b[0;34m'PINN'\u001b[0m\u001b[0;34m]\u001b[0m\u001b[0;34m[\u001b[0m\u001b[0;36m122\u001b[0m\u001b[0;34m]\u001b[0m\u001b[0;34m[\u001b[0m\u001b[0mi\u001b[0m\u001b[0;34m,\u001b[0m\u001b[0;34m:\u001b[0m\u001b[0;34m,\u001b[0m\u001b[0;34m:\u001b[0m\u001b[0;34m]\u001b[0m\u001b[0;34m,\u001b[0m\u001b[0mvmin\u001b[0m \u001b[0;34m=\u001b[0m \u001b[0;34m-\u001b[0m\u001b[0;36m5\u001b[0m\u001b[0;34m,\u001b[0m \u001b[0mvmax\u001b[0m \u001b[0;34m=\u001b[0m \u001b[0;36m5\u001b[0m\u001b[0;34m)\u001b[0m\u001b[0;34m\u001b[0m\u001b[0;34m\u001b[0m\u001b[0m\n\u001b[0m\u001b[1;32m      4\u001b[0m \u001b[0;34m\u001b[0m\u001b[0m\n\u001b[1;32m      5\u001b[0m     \u001b[0mplt\u001b[0m\u001b[0;34m.\u001b[0m\u001b[0mcolorbar\u001b[0m\u001b[0;34m(\u001b[0m\u001b[0;34m)\u001b[0m\u001b[0;34m\u001b[0m\u001b[0;34m\u001b[0m\u001b[0m\n",
      "\u001b[0;31mNameError\u001b[0m: name 'plt' is not defined"
     ]
    }
   ],
   "source": [
    "from time import sleep\n",
    "for i in range(4):\n",
    "    plt.imshow(Agent.log['PINN'][122][i,:,:],vmin = -5, vmax = 5)\n",
    "    \n",
    "    plt.colorbar()\n",
    "    plt.show()\n",
    "    sleep(1)\n",
    "    clear_output(wait=True)"
   ]
  },
  {
   "cell_type": "code",
   "execution_count": null,
   "metadata": {
    "id": "oU4JMUffVrwW"
   },
   "outputs": [],
   "source": []
  },
  {
   "cell_type": "code",
   "execution_count": null,
   "metadata": {
    "id": "31bA6KveVrwW"
   },
   "outputs": [],
   "source": []
  }
 ],
 "metadata": {
  "accelerator": "GPU",
  "colab": {
   "collapsed_sections": [],
   "machine_shape": "hm",
   "name": "DQN_Diffusion_PINN_3D_2 .ipynb",
   "version": ""
  },
  "kernelspec": {
   "display_name": "Python 3",
   "language": "python",
   "name": "python3"
  },
  "language_info": {
   "codemirror_mode": {
    "name": "ipython",
    "version": 3
   },
   "file_extension": ".py",
   "mimetype": "text/x-python",
   "name": "python",
   "nbconvert_exporter": "python",
   "pygments_lexer": "ipython3",
   "version": "3.8.5"
  }
 },
 "nbformat": 4,
 "nbformat_minor": 4
}
