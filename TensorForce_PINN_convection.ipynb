{
 "cells": [
  {
   "cell_type": "code",
   "execution_count": 1,
   "id": "hungarian-crash",
   "metadata": {
    "tags": []
   },
   "outputs": [
    {
     "name": "stdout",
     "output_type": "stream",
     "text": [
      "cuda\n"
     ]
    }
   ],
   "source": [
    "import wandb\n",
    "\n",
    "# fenics Finite Element\n",
    "from fenics import *\n",
    "from mshr import *\n",
    "from dolfin import *\n",
    "\n",
    "import torch\n",
    "device = torch.device('cuda' if torch.cuda.is_available() else 'cpu')\n",
    "print(device)\n",
    "\n",
    "# typical libaries\n",
    "import numpy as np\n",
    "import matplotlib.pyplot as plt\n",
    "\n",
    "#% matplotlib notebook\n",
    "# from IPython.display import Image\n",
    "# from IPython.display import set_matplotlib_formats\n",
    "# from IPython.display import clear_output\n",
    "# set_matplotlib_formats('png', 'pdf')\n",
    "# get_ipython().run_line_magic('matplotlib', 'inline')\n",
    "\n",
    "import gym\n",
    "from gym import spaces\n",
    "\n",
    "from wandb.integration.sb3 import WandbCallback\n",
    "\n",
    "from tqdm import tqdm\n",
    "from PINN_3D import PINN\n",
    "from pyDOE import lhs         #Hypercube Sampling\n",
    "import scipy.io\n"
   ]
  },
  {
   "cell_type": "code",
   "execution_count": 2,
   "id": "needed-static",
   "metadata": {},
   "outputs": [
    {
     "name": "stdout",
     "output_type": "stream",
     "text": [
      "553148\n"
     ]
    },
    {
     "name": "stderr",
     "output_type": "stream",
     "text": [
      "wandb: Currently logged in as: jacob-turner (use `wandb login --relogin` to force relogin)\n",
      "wandb: wandb version 0.12.1 is available!  To upgrade, please run:\n",
      "wandb:  $ pip install wandb --upgrade\n"
     ]
    },
    {
     "data": {
      "text/html": [
       "\n",
       "                Tracking run with wandb version 0.11.2<br/>\n",
       "                Syncing run <strong style=\"color:#cdcd00\">test_standard_a2c_553148_yesNoise_</strong> to <a href=\"https://wandb.ai\" target=\"_blank\">Weights & Biases</a> <a href=\"https://docs.wandb.com/integrations/jupyter.html\" target=\"_blank\">(Documentation)</a>.<br/>\n",
       "                Project page: <a href=\"https://wandb.ai/jacob-turner/Convection_Cont_final\" target=\"_blank\">https://wandb.ai/jacob-turner/Convection_Cont_final</a><br/>\n",
       "                Run page: <a href=\"https://wandb.ai/jacob-turner/Convection_Cont_final/runs/oqkrufaa\" target=\"_blank\">https://wandb.ai/jacob-turner/Convection_Cont_final/runs/oqkrufaa</a><br/>\n",
       "                Run data is saved locally in <code>/home/jacob/Navier_stokes/Dissertation_JacobTurner/wandb/run-20210903_142637-oqkrufaa</code><br/><br/>\n",
       "            "
      ],
      "text/plain": [
       "<IPython.core.display.HTML object>"
      ]
     },
     "metadata": {},
     "output_type": "display_data"
    },
    {
     "name": "stderr",
     "output_type": "stream",
     "text": [
      "/home/jacob/.local/lib/python3.8/site-packages/gym/logger.py:30: UserWarning: \u001b[33mWARN: Box bound precision lowered by casting to float32\u001b[0m\n",
      "  warnings.warn(colorize('%s: %s'%('WARN', msg % args), 'yellow'))\n",
      "0it [00:00, ?it/s]\n",
      "0it [00:00, ?it/s]\u001b[A"
     ]
    }
   ],
   "source": [
    "from wrapper import PINN_env\n",
    "\n",
    "from environment import Convection\n",
    "r = str(np.random.random())[2:8]\n",
    "\n",
    "print(r)\n",
    "sensor_coords = np.array([[0.1, -0.9],[0.9,0.9],[0.5,0.45]])\n",
    "env1 = Convection(dt = 1e-2, sensor_coords = sensor_coords,\n",
    "                     continuous = True,\n",
    "                     noisy_IC = True,\n",
    "                     norm_reward = False,\n",
    "                     scale_reward = True,\n",
    "                     verbose = True,\n",
    "                     noisy_source = False,\n",
    "                     wandb_name = f'test_standard_a2c_{r}_yesNoise_',\n",
    "                     project_name = 'Convection_Cont_final',\n",
    "                 Cp = 5, #10\n",
    "                 k = 5,\n",
    "                theta = 5)\n",
    "\n",
    "env_pinn = PINN_env(env1, norm_obs = True,\n",
    "                    standardize_obs = False,\n",
    "                    discrete_bc = False, #False\n",
    "                    mean_obs = False,\n",
    "                   use_wandb=True,\n",
    "                   max_loss = 10,\n",
    "                   min_delta = 1.0,\n",
    "                   max_iter = 10,\n",
    "                   flow_vel = None)"
   ]
  },
  {
   "cell_type": "code",
   "execution_count": 3,
   "id": "comprehensive-hearts",
   "metadata": {},
   "outputs": [
    {
     "name": "stderr",
     "output_type": "stream",
     "text": [
      "WARNING:root:No min_value bound specified for state.\n"
     ]
    }
   ],
   "source": [
    "from tensorforce.environments import Environment\n",
    "import tensorforce\n",
    "\n",
    "env = Environment.create(\n",
    "    environment=env1)#, max_epsisode_timesteps = 200)\n",
    "\n",
    "\n",
    "\n",
    "import tensorforce\n",
    "from tensorforce.agents import Agent\n",
    "\n",
    "\n",
    "\n",
    "a2c = Agent.create(\n",
    "    agent='a2c', environment=env, \n",
    "    batch_size=100, \n",
    "    update_frequency=1.0,\n",
    "    #memory = 10000,\n",
    "    learning_rate=1e-4,\n",
    "    max_episode_timesteps = 200,\n",
    "    horizon=1, \n",
    "    discount=0.99,\n",
    "    exploration=0.1\n",
    ")\n",
    "\n"
   ]
  },
  {
   "cell_type": "code",
   "execution_count": null,
   "id": "reserved-shock",
   "metadata": {},
   "outputs": [],
   "source": [
    "from tensorforce.execution import Runner\n",
    "\n",
    "runner = Runner(\n",
    "    agent=a2c,\n",
    "    environment=env\n",
    ")"
   ]
  },
  {
   "cell_type": "code",
   "execution_count": null,
   "id": "sexual-idaho",
   "metadata": {
    "scrolled": true,
    "tags": []
   },
   "outputs": [],
   "source": [
    "runner.run(num_episodes=1000) #memory issues"
   ]
  },
  {
   "cell_type": "code",
   "execution_count": null,
   "id": "destroyed-fusion",
   "metadata": {},
   "outputs": [],
   "source": []
  },
  {
   "cell_type": "code",
   "execution_count": null,
   "id": "dying-weapon",
   "metadata": {},
   "outputs": [],
   "source": []
  },
  {
   "cell_type": "code",
   "execution_count": null,
   "id": "designed-republic",
   "metadata": {},
   "outputs": [],
   "source": [
    "plt.plot(np.arange(len(env1.info['energy'])), env1.info['energy'])\n",
    "plt.axhline(y = 0, color =\"green\", linestyle =\"--\")\n",
    "plt.ylim(-20,20)"
   ]
  },
  {
   "cell_type": "code",
   "execution_count": null,
   "id": "accredited-music",
   "metadata": {},
   "outputs": [],
   "source": []
  },
  {
   "cell_type": "code",
   "execution_count": null,
   "id": "selective-audio",
   "metadata": {},
   "outputs": [],
   "source": []
  },
  {
   "cell_type": "code",
   "execution_count": null,
   "id": "fourth-welcome",
   "metadata": {},
   "outputs": [],
   "source": []
  },
  {
   "cell_type": "code",
   "execution_count": null,
   "id": "employed-revelation",
   "metadata": {},
   "outputs": [],
   "source": [
    "#env_pinn.save_PINN(episode = 150, id = r)\n",
    "\n",
    "a2c.save(directory = 'models/', \n",
    "         filename = f'standard_a2c_{r}_', \n",
    "         append=\"timesteps\")"
   ]
  },
  {
   "cell_type": "code",
   "execution_count": null,
   "id": "twenty-server",
   "metadata": {},
   "outputs": [],
   "source": []
  },
  {
   "cell_type": "code",
   "execution_count": null,
   "id": "developed-washer",
   "metadata": {},
   "outputs": [],
   "source": []
  },
  {
   "cell_type": "code",
   "execution_count": null,
   "id": "steady-duncan",
   "metadata": {},
   "outputs": [],
   "source": []
  },
  {
   "cell_type": "code",
   "execution_count": null,
   "id": "republican-litigation",
   "metadata": {},
   "outputs": [],
   "source": []
  },
  {
   "cell_type": "code",
   "execution_count": null,
   "id": "broad-plant",
   "metadata": {},
   "outputs": [],
   "source": []
  },
  {
   "cell_type": "code",
   "execution_count": null,
   "id": "legendary-veteran",
   "metadata": {},
   "outputs": [],
   "source": [
    "y = torch.stack(env_pinn.info['PINN_loss']).cpu().detach().numpy()\n",
    "\n",
    "def smooth(y, box_pts):\n",
    "    box = np.ones(box_pts)/box_pts\n",
    "    y_smooth = np.convolve(y, box, mode='same')\n",
    "    return y_smooth\n",
    "\n",
    "y_smooth = smooth(y, 400)\n",
    "\n",
    "plt.plot(np.arange(len(y)),y_smooth)"
   ]
  },
  {
   "cell_type": "code",
   "execution_count": null,
   "id": "flying-theater",
   "metadata": {},
   "outputs": [],
   "source": []
  },
  {
   "cell_type": "code",
   "execution_count": null,
   "id": "equal-blend",
   "metadata": {},
   "outputs": [],
   "source": []
  },
  {
   "cell_type": "code",
   "execution_count": null,
   "id": "alpha-intellectual",
   "metadata": {},
   "outputs": [],
   "source": []
  },
  {
   "cell_type": "code",
   "execution_count": null,
   "id": "adjacent-threshold",
   "metadata": {},
   "outputs": [],
   "source": [
    "sum_rewards = 0.0\n",
    "for _ in range(1):\n",
    "    states = env.reset()\n",
    "    internals = a2c.initial_internals()\n",
    "    terminal = False\n",
    "    while not terminal:\n",
    "        actions, internals = a2c.act(\n",
    "            states=states, internals=internals,\n",
    "            independent=True, deterministic=True\n",
    "        )\n",
    "        states, terminal, reward = env.execute(actions=actions)\n",
    "        sum_rewards += reward\n",
    "        env1.render()\n",
    "        clear_output(wait=True)\n",
    "print('Mean episode reward:', sum_rewards / 100)\n",
    "\n",
    "# Close agent and environment\n",
    "agent.close()\n",
    "environment.close()"
   ]
  },
  {
   "cell_type": "code",
   "execution_count": null,
   "id": "ecological-timeline",
   "metadata": {},
   "outputs": [],
   "source": []
  },
  {
   "cell_type": "code",
   "execution_count": null,
   "id": "announced-chinese",
   "metadata": {},
   "outputs": [],
   "source": []
  },
  {
   "cell_type": "code",
   "execution_count": null,
   "id": "killing-better",
   "metadata": {},
   "outputs": [],
   "source": []
  },
  {
   "cell_type": "code",
   "execution_count": null,
   "id": "after-liabilities",
   "metadata": {},
   "outputs": [],
   "source": [
    "\n",
    "env_pinn.save_PINN(episode = 150, id = r)\n",
    "\n",
    "fname = f'models/diffusion_PINN_39000_SAC_fail_{r}.pth'\n",
    "if True: \n",
    "    model.save(fname)\n",
    "    print('saved.')"
   ]
  },
  {
   "cell_type": "code",
   "execution_count": null,
   "id": "matched-miracle",
   "metadata": {},
   "outputs": [],
   "source": [
    "obs = env_pinn.reset(ic_temp = -20)\n",
    "env_pinn.test_epsisode(env = env_pinn, \n",
    "                      render = True, \n",
    "                      load_PINN = env_pinn.pinn_model, \n",
    "                      model_name = fname, \n",
    "                      model = SAC)"
   ]
  },
  {
   "cell_type": "code",
   "execution_count": null,
   "id": "instant-alberta",
   "metadata": {},
   "outputs": [],
   "source": [
    "og_reward = np.array(env1.info['reward']).copy()\n",
    "plt.plot(np.arange(len(og_reward[-200:])), og_reward[-200:])"
   ]
  },
  {
   "cell_type": "code",
   "execution_count": null,
   "id": "personalized-sodium",
   "metadata": {},
   "outputs": [],
   "source": []
  },
  {
   "cell_type": "code",
   "execution_count": null,
   "id": "oriented-projection",
   "metadata": {},
   "outputs": [],
   "source": [
    "#SAC 001358\n",
    "            gamma = 0.99,\n",
    "            tau = 0.005,\n",
    "            learning_starts = 5000,\n",
    "            buffer_size = 10000,\n",
    "            batch_size = 1000,\n",
    "            optimize_memory_usage = True,\n",
    "            train_freq = 5,\n",
    "            gradient_steps = 1,\n",
    "            target_update_interval = 500"
   ]
  },
  {
   "cell_type": "code",
   "execution_count": null,
   "id": "dated-requirement",
   "metadata": {},
   "outputs": [],
   "source": []
  }
 ],
 "metadata": {
  "kernelspec": {
   "display_name": "Python 3",
   "language": "python",
   "name": "python3"
  },
  "language_info": {
   "codemirror_mode": {
    "name": "ipython",
    "version": 3
   },
   "file_extension": ".py",
   "mimetype": "text/x-python",
   "name": "python",
   "nbconvert_exporter": "python",
   "pygments_lexer": "ipython3",
   "version": "3.8.5"
  }
 },
 "nbformat": 4,
 "nbformat_minor": 5
}
